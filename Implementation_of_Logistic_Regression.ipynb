{
  "nbformat": 4,
  "nbformat_minor": 0,
  "metadata": {
    "colab": {
      "name": "Implementation of Logistic Regression.ipynb",
      "provenance": [],
      "collapsed_sections": []
    },
    "kernelspec": {
      "name": "python3",
      "display_name": "Python 3"
    },
    "accelerator": "GPU"
  },
  "cells": [
    {
      "cell_type": "code",
      "metadata": {
        "id": "2dmvS2ez2_XQ"
      },
      "source": [
        "import pandas as pd\n",
        "import numpy as np\n",
        "\n",
        "#Reading file 'beer.txt' in beerdataset, columns are separated by tabs\n",
        "beerdataset=pd.read_csv('beer.txt',sep=\"\\t\",header=0)\n",
        "#Giving column names to data in beerdataset\n",
        "beerdataset.columns=[\"calorific_value\",\"nitrogen\",\"turbidity\",\"style\",\"alcohol\",\"sugars\",\"bitterness\",\"beer_id\",\"colour\",\"degree_of_fermentation\"]\n",
        "\n",
        "X=beerdataset.iloc[:] #Storing all rows and columns in X\n",
        "X.drop(\"style\",axis='columns',inplace=True) #Dropping 'style' column from X\n",
        "Y=beerdataset.iloc[:,3].values #Y=All rows of 'style' column\n"
      ],
      "execution_count": null,
      "outputs": []
    },
    {
      "cell_type": "code",
      "metadata": {
        "colab": {
          "base_uri": "https://localhost:8080/"
        },
        "id": "lM80ZcMhIdkw",
        "outputId": "5a4357b5-62b7-4d02-bde5-6f18a3219018"
      },
      "source": [
        "#Standardization:\n",
        "# Using a for loop I have updated each element by subtracting its column's mean from it\n",
        "# and then dividing it by its column's standard deviation\n",
        "\n",
        "i=0\n",
        "for i in range(len(X['calorific_value'])):\n",
        "  X['calorific_value'][i]=(X['calorific_value'][i]-beerdataset[\"calorific_value\"].mean())/beerdataset[\"calorific_value\"].std()\n",
        "  X['nitrogen'][i]=(X['nitrogen'][i]-beerdataset[\"nitrogen\"].mean())/beerdataset[\"nitrogen\"].std()\n",
        "  X['turbidity'][i]=(X['turbidity'][i]-beerdataset[\"turbidity\"].mean())/beerdataset[\"turbidity\"].std()\n",
        "  X['alcohol'][i]=(X['alcohol'][i]-beerdataset[\"alcohol\"].mean())/beerdataset[\"alcohol\"].std()\n",
        "  X['sugars'][i]=(X['sugars'][i]-beerdataset[\"sugars\"].mean())/beerdataset[\"sugars\"].std()\n",
        "  X['bitterness'][i]=(X['bitterness'][i]-beerdataset[\"bitterness\"].mean())/beerdataset[\"bitterness\"].std()\n",
        "  X['beer_id'][i]=(X['beer_id'][i]-beerdataset[\"beer_id\"].mean())/beerdataset[\"beer_id\"].std()\n",
        "  X['colour'][i]=(X['colour'][i]-beerdataset[\"colour\"].mean())/beerdataset[\"colour\"].std()\n",
        "  X['degree_of_fermentation'][i]=(X['degree_of_fermentation'][i]-beerdataset[\"degree_of_fermentation\"].mean())/beerdataset[\"degree_of_fermentation\"].std()\n"
      ],
      "execution_count": null,
      "outputs": [
        {
          "output_type": "stream",
          "name": "stderr",
          "text": [
            "/usr/local/lib/python3.7/dist-packages/ipykernel_launcher.py:7: SettingWithCopyWarning: \n",
            "A value is trying to be set on a copy of a slice from a DataFrame\n",
            "\n",
            "See the caveats in the documentation: https://pandas.pydata.org/pandas-docs/stable/user_guide/indexing.html#returning-a-view-versus-a-copy\n",
            "  import sys\n",
            "/usr/local/lib/python3.7/dist-packages/ipykernel_launcher.py:8: SettingWithCopyWarning: \n",
            "A value is trying to be set on a copy of a slice from a DataFrame\n",
            "\n",
            "See the caveats in the documentation: https://pandas.pydata.org/pandas-docs/stable/user_guide/indexing.html#returning-a-view-versus-a-copy\n",
            "  \n",
            "/usr/local/lib/python3.7/dist-packages/ipykernel_launcher.py:9: SettingWithCopyWarning: \n",
            "A value is trying to be set on a copy of a slice from a DataFrame\n",
            "\n",
            "See the caveats in the documentation: https://pandas.pydata.org/pandas-docs/stable/user_guide/indexing.html#returning-a-view-versus-a-copy\n",
            "  if __name__ == '__main__':\n",
            "/usr/local/lib/python3.7/dist-packages/ipykernel_launcher.py:10: SettingWithCopyWarning: \n",
            "A value is trying to be set on a copy of a slice from a DataFrame\n",
            "\n",
            "See the caveats in the documentation: https://pandas.pydata.org/pandas-docs/stable/user_guide/indexing.html#returning-a-view-versus-a-copy\n",
            "  # Remove the CWD from sys.path while we load stuff.\n",
            "/usr/local/lib/python3.7/dist-packages/ipykernel_launcher.py:11: SettingWithCopyWarning: \n",
            "A value is trying to be set on a copy of a slice from a DataFrame\n",
            "\n",
            "See the caveats in the documentation: https://pandas.pydata.org/pandas-docs/stable/user_guide/indexing.html#returning-a-view-versus-a-copy\n",
            "  # This is added back by InteractiveShellApp.init_path()\n",
            "/usr/local/lib/python3.7/dist-packages/ipykernel_launcher.py:12: SettingWithCopyWarning: \n",
            "A value is trying to be set on a copy of a slice from a DataFrame\n",
            "\n",
            "See the caveats in the documentation: https://pandas.pydata.org/pandas-docs/stable/user_guide/indexing.html#returning-a-view-versus-a-copy\n",
            "  if sys.path[0] == '':\n",
            "/usr/local/lib/python3.7/dist-packages/ipykernel_launcher.py:13: SettingWithCopyWarning: \n",
            "A value is trying to be set on a copy of a slice from a DataFrame\n",
            "\n",
            "See the caveats in the documentation: https://pandas.pydata.org/pandas-docs/stable/user_guide/indexing.html#returning-a-view-versus-a-copy\n",
            "  del sys.path[0]\n",
            "/usr/local/lib/python3.7/dist-packages/ipykernel_launcher.py:14: SettingWithCopyWarning: \n",
            "A value is trying to be set on a copy of a slice from a DataFrame\n",
            "\n",
            "See the caveats in the documentation: https://pandas.pydata.org/pandas-docs/stable/user_guide/indexing.html#returning-a-view-versus-a-copy\n",
            "  \n",
            "/usr/local/lib/python3.7/dist-packages/ipykernel_launcher.py:15: SettingWithCopyWarning: \n",
            "A value is trying to be set on a copy of a slice from a DataFrame\n",
            "\n",
            "See the caveats in the documentation: https://pandas.pydata.org/pandas-docs/stable/user_guide/indexing.html#returning-a-view-versus-a-copy\n",
            "  from ipykernel import kernelapp as app\n"
          ]
        }
      ]
    },
    {
      "cell_type": "code",
      "metadata": {
        "id": "fUrs_7PW-P1g"
      },
      "source": [
        "#Splitting the data 2/3 for training the model and 1/3 for testing\n",
        "from sklearn.model_selection import train_test_split\n",
        "\n",
        "training_x, testing_x, training_y, testing_y = train_test_split(X, Y, test_size=1/3)"
      ],
      "execution_count": 28,
      "outputs": []
    },
    {
      "cell_type": "code",
      "metadata": {
        "id": "2Oam0pLJ3L4G"
      },
      "source": [
        "class LogisticRegModel():                     #class LogisticRegModel starts here\n",
        "\n",
        "  def __init__(self,training_x, training_y):  #As soon as LogisticRegModel() is called we initialise the below variables\n",
        "    self.learnrate=0.01                       #Learning rate of our model\n",
        "    self.numofitr=20000                       #Number of Iterations\n",
        "    self.x=training_x                         #training data (x)\n",
        "    self.y=training_y                         #training data (y)\n",
        "    self.numofobservations=self.x.shape[0]    #Number of observations = number of rows in X\n",
        "    self.numoffeatures=self.x.shape[1]        #Number of features (Eg: Alcohol,Colour,Sugars etc)\n",
        "    self.weights=[0]*self.numoffeatures       #Weight\n",
        "  \n",
        "  def sigmoid(self, parameter):               #Sigmoid function\n",
        "    return (1/(1 +np.exp(-parameter)))\n",
        "\n",
        "  def compute(self): \n",
        "    for index in range(self.numofitr):         #For loop runs 20000 times \n",
        "      var = (self.sigmoid(self.x.dot(self.weights)) - self.y)          # dot product of x and weights is passed to sigmoid function and y is then subtracted from the result\n",
        "      updateW = np.dot(self.x.T, var)* 1/self.numofobservations        #updateW will be used to update weights. It is equal to dot product of X Transpose and var divided by number of observations\n",
        "      self.weights = self.weights - self.learnrate * updateW     #updating weights \n",
        "    return self\n",
        "\n",
        "  def predict(self, xvar):                    #Predict Function\n",
        "    return (self.sigmoid( xvar.dot(self.weights)))"
      ],
      "execution_count": 29,
      "outputs": []
    },
    {
      "cell_type": "code",
      "metadata": {
        "colab": {
          "base_uri": "https://localhost:8080/"
        },
        "id": "aqWG8_Yo3P3K",
        "outputId": "b41587c4-4c6f-49e7-8f92-7c3a8cb4016b"
      },
      "source": [
        "#This for loop inserts 'ale' in y_train1 for every value 'ale' in training_y and 0 otherwise\n",
        "y_train1=[] \n",
        "i=0\n",
        "for i in range(len(training_y)): \n",
        " if(training_y[i]!='ale'):\n",
        "  y_train1.append(0)\n",
        " else:\n",
        "  y_train1.append(1)\n",
        "#This for loop inserts 'lager' in y_train2 for every value 'lager' in training_y and 0 otherwise\n",
        "y_train2=[]\n",
        "i=0\n",
        "for i in range(len(training_y)):\n",
        " if(training_y[i]!='lager'):\n",
        "  y_train2.append(0)\n",
        " else:\n",
        "  y_train2.append(1)\n",
        "#This for loop inserts 'stout' in y_train1 for every value 'stout' in training_y and 0 otherwise\n",
        "y_train3=[]\n",
        "i=0\n",
        "for i in range(len(training_y)):\n",
        " if(training_y[i]!='stout'):\n",
        "  y_train3.append(0)\n",
        " else:\n",
        "  y_train3.append(1)\n",
        "\n",
        "#Training model and Predicting results for each y_train1,y_train2,y_train3\n",
        "model1 = LogisticRegModel(training_x,y_train1).compute()\n",
        "Y_pred1 = model1.predict(testing_x)\n",
        "\n",
        "model2 = LogisticRegModel(training_x,y_train2).compute()\n",
        "Y_pred2 = model2.predict(testing_x) \n",
        "\n",
        "model3 = LogisticRegModel(training_x,y_train3).compute()\n",
        "Y_pred3 = model3.predict(testing_x)\n",
        "\n",
        "item=0\n",
        "predicted_values=[]\n",
        "\n",
        "#This for loop will check which of y_train1,y_train2 and y_train3 has highest probability for each row.\n",
        "#If Y_pred1 has highest probabiity for row1, 'ale' will be inserted in row1 of predicted_values\n",
        "#and similar approach is followed for Y_pred2 and Y_pred3\n",
        "for item in range(len(Y_pred1)):\n",
        "  if ((Y_pred1.iloc[item]>Y_pred2.iloc[item]) and (Y_pred1.iloc[item]>Y_pred3.iloc[item])):\n",
        "    predicted_values.append('ale')\n",
        "  elif ((Y_pred2.iloc[item]>Y_pred1.iloc[item]) and (Y_pred2.iloc[item]>Y_pred3.iloc[item])):\n",
        "    predicted_values.append('lager')\n",
        "  else:\n",
        "    predicted_values.append('stout')\n",
        "\n",
        "count =0\n",
        "for i in range(len(testing_y)): #for loop to count number of correct predictions and store in count\n",
        "  if(predicted_values[i]==testing_y[i]):\n",
        "    count +=1\n",
        "\n",
        "\n",
        "temp = open('logisticregmodel.txt', 'a') #creating a file\n",
        "for c in range(len(predicted_values)):   \n",
        "  temp.write(str(predicted_values[c]))  #storing predicted values\n",
        "  temp.write(\"\\t\")\n",
        "  temp.write(str(testing_y[c]))         #storing original values\n",
        "  temp.write(\"\\n\")\n",
        "temp.close()\n",
        "\n",
        "valuesdataset=pd.read_csv('logisticregmodel.txt',sep=\"\\t\",header=0) #storing outputfile contents to a dataset\n",
        "valuesdataset.columns=[\"Predicted Value\",\"Original Value\"] #Giving column names to data in valuesdataset\n",
        "\n",
        "#Printing Predicted values, Original Values and Accuracy percentage of our model.\n",
        "print(\"Predicted Value \\n\",valuesdataset['Predicted Value'])\n",
        "print(\"Original Value \\n\",valuesdataset['Original Value'])\n",
        "print(\"Accuracy of our model is : \", count/len(testing_y)*100, \" percentage\")\n",
        "\n",
        "#Storing accuracy in a file\n",
        "tempr = open('accuracy.txt', 'a')\n",
        "tempr.write(str(count/len(testing_y)*100)) \n",
        "tempr.close()\n"
      ],
      "execution_count": 30,
      "outputs": [
        {
          "output_type": "stream",
          "name": "stdout",
          "text": [
            "Predicted Value \n",
            " 0      stout\n",
            "1        ale\n",
            "2        ale\n",
            "3      lager\n",
            "4        ale\n",
            "       ...  \n",
            "300    lager\n",
            "301    lager\n",
            "302    lager\n",
            "303    lager\n",
            "304    stout\n",
            "Name: Predicted Value, Length: 305, dtype: object\n",
            "Original Value \n",
            " 0      stout\n",
            "1        ale\n",
            "2        ale\n",
            "3      lager\n",
            "4        ale\n",
            "       ...  \n",
            "300    lager\n",
            "301    lager\n",
            "302    lager\n",
            "303    lager\n",
            "304    stout\n",
            "Name: Original Value, Length: 305, dtype: object\n",
            "Accuracy of our model is :  96.07843137254902  percentage\n"
          ]
        }
      ]
    },
    {
      "cell_type": "code",
      "metadata": {
        "colab": {
          "base_uri": "https://localhost:8080/"
        },
        "id": "x6a9opy16CZM",
        "outputId": "1524f031-b2d9-4bed-8c21-604b63217b09"
      },
      "source": [
        "#Implementing Logistic Regression from a known ML library- sklearn\n",
        "from sklearn import linear_model #importing linear_model from Library\n",
        "\n",
        "mymodel = linear_model.LogisticRegression().fit(training_x, training_y) #training mymodel with training_x and training_y\n",
        "predicted_y = mymodel.predict(testing_x) #predicted results and storing in predicted_y\n",
        "\n",
        "counter =0\n",
        "for i in range(len(testing_y)): #for loop to count the number of correct predictions and store in counter\n",
        "  if(predicted_y[i]==testing_y[i]):\n",
        "    counter +=1\n",
        "\n",
        "\n",
        "temp2 = open('sklearnmodel.txt', 'a') #creating a file\n",
        "for c2 in range(len(predicted_values)):   \n",
        "  temp2.write(str(predicted_y[c2]))  #storing predicted values\n",
        "  temp2.write(\"\\t\")\n",
        "  temp2.write(str(testing_y[c2]))         #storing original values\n",
        "  temp2.write(\"\\n\")\n",
        "temp2.close()\n",
        "\n",
        "valuesdataset2=pd.read_csv('sklearnmodel.txt',sep=\"\\t\",header=0) #storing outputfile contents to a dataset\n",
        "valuesdataset2.columns=[\"Predicted Value\",\"Original Value\"] #Giving column names to data in valuesdataset2\n",
        "\n",
        "print(\"Predicted Values \\n\",valuesdataset2['Predicted Value']) #printing predicted values\n",
        "print(\"Original Values \\n\",valuesdataset2['Original Value']) #printing original values\n",
        "print(\"Accuracy of Logistic Regression model using sklearn is:\",counter/len(testing_y)*100,\"percentage\") #printing accuracy percentage\n",
        "\n",
        "tempr2 = open('accuracy.txt', 'a')\n",
        "tempr2.write(\"\\t\")\n",
        "tempr2.write(str(counter/len(testing_y)*100)) \n",
        "tempr2.write(\"\\n\")         \n",
        "tempr2.close()\n",
        "\n"
      ],
      "execution_count": 31,
      "outputs": [
        {
          "output_type": "stream",
          "name": "stdout",
          "text": [
            "Predicted Values \n",
            " 0      stout\n",
            "1        ale\n",
            "2        ale\n",
            "3      lager\n",
            "4        ale\n",
            "       ...  \n",
            "300    lager\n",
            "301    lager\n",
            "302    lager\n",
            "303    lager\n",
            "304    stout\n",
            "Name: Predicted Value, Length: 305, dtype: object\n",
            "Original Values \n",
            " 0      stout\n",
            "1        ale\n",
            "2        ale\n",
            "3      lager\n",
            "4        ale\n",
            "       ...  \n",
            "300    lager\n",
            "301    lager\n",
            "302    lager\n",
            "303    lager\n",
            "304    stout\n",
            "Name: Original Value, Length: 305, dtype: object\n",
            "Accuracy of Logistic Regression model using sklearn is: 96.07843137254902 percentage\n"
          ]
        }
      ]
    },
    {
      "cell_type": "code",
      "metadata": {
        "colab": {
          "base_uri": "https://localhost:8080/"
        },
        "id": "FqcyArBk7mp6",
        "outputId": "cfbfc17b-52cf-4498-8291-07d9e48ff254"
      },
      "source": [
        "#Printing Accuracies\n",
        "\n",
        "accuracydataset=pd.read_csv('accuracy.txt',sep=\"\\t\",header=None)\n",
        "accuracydataset.columns=[\"LogisticRegModel\",\"Sklearn\"] #Giving column names to data in accuracydataset\n",
        "\n",
        "print(\"Reported Accuracies of LogisticRegModel \\n\",accuracydataset['LogisticRegModel'])\n",
        "print(\"Reported Accuracies of Sklearn Model \\n\",accuracydataset['Sklearn']) \n"
      ],
      "execution_count": 32,
      "outputs": [
        {
          "output_type": "stream",
          "name": "stdout",
          "text": [
            "Reported Accuracies of LogisticRegModel \n",
            " 0     94.117647\n",
            "1     94.117647\n",
            "2    100.000000\n",
            "3     96.078431\n",
            "4    100.000000\n",
            "5     96.078431\n",
            "Name: LogisticRegModel, dtype: float64\n",
            "Reported Accuracies of Sklearn Model \n",
            " 0     90.196078\n",
            "1     98.039216\n",
            "2    100.000000\n",
            "3     94.117647\n",
            "4    100.000000\n",
            "5     96.078431\n",
            "Name: Sklearn, dtype: float64\n"
          ]
        }
      ]
    }
  ]
}